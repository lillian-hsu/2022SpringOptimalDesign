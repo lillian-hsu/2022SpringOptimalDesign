{
  "nbformat": 4,
  "nbformat_minor": 0,
  "metadata": {
    "colab": {
      "name": "OptimalDesignHW2.ipynb",
      "provenance": []
    },
    "kernelspec": {
      "name": "python3",
      "display_name": "Python 3"
    },
    "language_info": {
      "name": "python"
    }
  },
  "cells": [
    {
      "cell_type": "markdown",
      "source": [
        "# Import library"
      ],
      "metadata": {
        "id": "zQ6a3UlZh_cD"
      }
    },
    {
      "cell_type": "code",
      "execution_count": 52,
      "metadata": {
        "id": "JtNqcDoxg92a"
      },
      "outputs": [],
      "source": [
        "# numerical operation\n",
        "from math import exp\n",
        "import numpy as np\n",
        "\n",
        "# plot\n",
        "from pylab import figure, cm\n",
        "import matplotlib.pyplot as plt\n",
        "from matplotlib.path import Path\n",
        "import matplotlib.patches as patches"
      ]
    },
    {
      "cell_type": "markdown",
      "source": [
        "# 1"
      ],
      "metadata": {
        "id": "PrDskYHzh8e-"
      }
    },
    {
      "cell_type": "code",
      "source": [
        "# define function\n",
        "def f(x):\n",
        "  return (x ** 3) * exp(-(x ** 2))\n",
        "\n",
        "# define interval\n",
        "interval = [-2, 2]"
      ],
      "metadata": {
        "id": "ka2d2cQCh0Al"
      },
      "execution_count": 53,
      "outputs": []
    },
    {
      "cell_type": "code",
      "source": [
        "# plot\n",
        "def plot(title, history):\n",
        "    plt.figure(figsize=(10,5))\n",
        "    plt.plot(history, label = \"1\")\n",
        "    plt.title(title)\n",
        "    plt.xlabel(\"Iteration number\")\n",
        "    plt.ylabel(\"Function value\")\n",
        "    plt.show()"
      ],
      "metadata": {
        "id": "8_O5xjxLBlbL"
      },
      "execution_count": 54,
      "outputs": []
    },
    {
      "cell_type": "markdown",
      "source": [
        "## Golden section method"
      ],
      "metadata": {
        "id": "WADi4lOoBINK"
      }
    },
    {
      "cell_type": "code",
      "source": [
        "def golden_section(a, b, ep):\n",
        "  alpha = (5 ** (1/2) - 1) / 2\n",
        "  x1 = a\n",
        "  x2 = b\n",
        "  x_sol = x1\n",
        "  history = []\n",
        "\n",
        "  while True:\n",
        "    # set variable\n",
        "    new_sol = 0\n",
        "    u1 = x1 + (x2 - x1) * (1 - alpha)\n",
        "    u2 = x1 + (x2 - x1) * alpha\n",
        "\n",
        "    # update\n",
        "    if f(u1) > f(u2):\n",
        "      x1 = u1\n",
        "      new_sol = x1\n",
        "    else:\n",
        "      x2 = u2\n",
        "      new_sol = x2\n",
        "\n",
        "    # terminal condition\n",
        "    if abs(f(new_sol) - f(x_sol)) / abs(f(new_sol)) < ep:\n",
        "      history.append(f(new_sol))\n",
        "      return history\n",
        "    else:\n",
        "      history.append(f(x_sol))\n",
        "      x_sol = new_sol"
      ],
      "metadata": {
        "id": "P2SSETiyBO_P"
      },
      "execution_count": 55,
      "outputs": []
    },
    {
      "cell_type": "code",
      "source": [
        "history = golden_section(-2, 2, 10 ** (-7))"
      ],
      "metadata": {
        "id": "fiVkKSkyV_Ij"
      },
      "execution_count": 56,
      "outputs": []
    },
    {
      "cell_type": "code",
      "source": [
        "plot(\"Golden section method\", history)"
      ],
      "metadata": {
        "colab": {
          "base_uri": "https://localhost:8080/",
          "height": 350
        },
        "id": "8tyENpPKp4yr",
        "outputId": "753ed446-9bdd-4356-90a8-35a71eab7c93"
      },
      "execution_count": 57,
      "outputs": [
        {
          "output_type": "display_data",
          "data": {
            "text/plain": [
              "<Figure size 720x360 with 1 Axes>"
            ],
            "image/png": "[encoded data removed]"
          },
          "metadata": {
            "needs_background": "light"
          }
        }
      ]
    },
    {
      "cell_type": "markdown",
      "source": [
        "## Dichotomous search method"
      ],
      "metadata": {
        "id": "DRvAxgI5kLNZ"
      }
    },
    {
      "cell_type": "code",
      "source": [
        "def Dichotomous(a, b, delta, ep):\n",
        "  alpha = (5 ** (1/2) - 1) / 2\n",
        "  x1 = a\n",
        "  x2 = b\n",
        "  x_sol = x1\n",
        "  history = []\n",
        "\n",
        "  while True:\n",
        "    # set variable\n",
        "    new_sol = 0\n",
        "    u1 = (x1 + x2) / 2 - delta\n",
        "    u2 = (x1 + x2) / 2 + delta\n",
        "\n",
        "    # update\n",
        "    if f(u1) > f(u2):\n",
        "      x1 = u1\n",
        "      new_sol = x1\n",
        "    else:\n",
        "      x2 = u2\n",
        "      new_sol = x2\n",
        "\n",
        "    # terminal condition\n",
        "    if abs(f(new_sol) - f(x_sol)) / abs(f(new_sol)) < ep:\n",
        "      history.append(f(new_sol))\n",
        "      return history\n",
        "    else:\n",
        "      history.append(f(x_sol))\n",
        "      x_sol = new_sol"
      ],
      "metadata": {
        "id": "qJ77JYMFkTTo"
      },
      "execution_count": 58,
      "outputs": []
    },
    {
      "cell_type": "code",
      "source": [
        "history = Dichotomous(-2, 2, 0.0000001, 10 ** (-5))"
      ],
      "metadata": {
        "id": "lUPLWnyJldT0"
      },
      "execution_count": 59,
      "outputs": []
    },
    {
      "cell_type": "code",
      "source": [
        "plot(\"Dichotomous search method\", history)"
      ],
      "metadata": {
        "colab": {
          "base_uri": "https://localhost:8080/",
          "height": 350
        },
        "id": "3nsbOUCukYCX",
        "outputId": "0eb52843-0860-4522-ce58-6821f6ef1b3b"
      },
      "execution_count": 60,
      "outputs": [
        {
          "output_type": "display_data",
          "data": {
            "text/plain": [
              "<Figure size 720x360 with 1 Axes>"
            ],
            "image/png": "[encoded data removed]"
          },
          "metadata": {
            "needs_background": "light"
          }
        }
      ]
    },
    {
      "cell_type": "markdown",
      "source": [
        "## quadratic interpolation method(bug not fix)"
      ],
      "metadata": {
        "id": "NlOJ5Fj8B8ch"
      }
    },
    {
      "cell_type": "code",
      "source": [
        "# define function\n",
        "def quadratic(a, b, c, ep):\n",
        "  x1 = a\n",
        "  x2 = b\n",
        "  x3 = c\n",
        "  x_sol = x2\n",
        "\n",
        "  while True:\n",
        "    # set new solution\n",
        "    # q1(x) = f(x1)(x - x2)(x - x3) / (x1 - x2)(x1 - x3)\n",
        "    d1 = f(x1) / ((x1 - x2) * (x1 - x3))\n",
        "    c1 = d1 * (x2 + x3)\n",
        "    # q2(x) = f(x2)(x - x3)(x - x1) / (x2 - x3)(x2 - x1)\n",
        "    d2 = f(x2) / ((x2 - x3) * (x2 - x1))\n",
        "    c2 = d2 * (x3 + x1)\n",
        "    # q3(x) = f(x3)(x - x1)(x - x2) / (x3 - x1)(x3 - x2)\n",
        "    d3 = f(x3) / ((x3 - x1) * (x3 - x2))\n",
        "    c3 = d3 * (x1 + x2)\n",
        "    # q = q1 + q2 + q3\n",
        "    a1 = d1 + d2 + d3\n",
        "    a2 = c1 + c2 + c3\n",
        "    # print(\"d1: \" + str(d1) + \" d2: \" + str(d2) + \" d3: \" + str(d3))\n",
        "    if a1 == 0:\n",
        "      new_sol = x2\n",
        "    else:\n",
        "      new_sol = -a2 / (2 * a1)\n",
        "\n",
        "    # debug\n",
        "    if new_sol < x1 or new_sol > x3:\n",
        "      new_sol = x2\n",
        "\n",
        "    # update\n",
        "    if new_sol < x2 or new_sol == x2:\n",
        "      if f(new_sol) < f(x2) or f(new_sol) == f(x2):\n",
        "        x3 = x2\n",
        "        x2 = new_sol\n",
        "      else:\n",
        "        x1 = new_sol\n",
        "    else:\n",
        "      if f(new_sol) < f(x2) or f(new_sol) == f(x2):\n",
        "        x1 = x2\n",
        "        x2 = new_sol\n",
        "      else:\n",
        "        x3 = new_sol\n",
        "\n",
        "    # adjust mid\n",
        "    if x2 == x1 or x2 == x3:\n",
        "      x2 = (x1 + x3) / 2\n",
        "      new_sol = x2\n",
        "\n",
        "    # terminal condition\n",
        "    if abs(f(new_sol)) > 0 and abs(f(new_sol) - f(x_sol)) / abs(f(new_sol)) < ep:\n",
        "      return new_sol\n",
        "    else:\n",
        "      # print(x_sol)\n",
        "      x_sol = new_sol"
      ],
      "metadata": {
        "id": "aiW2s3i6qdwU"
      },
      "execution_count": 61,
      "outputs": []
    },
    {
      "cell_type": "code",
      "source": [
        "x = quadratic(-2, 0, 2, 10 ** (-7))\n",
        "print(f(x))"
      ],
      "metadata": {
        "colab": {
          "base_uri": "https://localhost:8080/"
        },
        "id": "WVU_xWhoVx7Z",
        "outputId": "811b5535-3d50-4b60-d270-61a7e62190de"
      },
      "execution_count": 62,
      "outputs": [
        {
          "output_type": "stream",
          "name": "stdout",
          "text": [
            "-0.14652512202684517\n"
          ]
        }
      ]
    },
    {
      "cell_type": "code",
      "source": [
        "# plot"
      ],
      "metadata": {
        "id": "W82OwSBlVjjP"
      },
      "execution_count": 63,
      "outputs": []
    },
    {
      "cell_type": "markdown",
      "source": [
        "# 2"
      ],
      "metadata": {
        "id": "F8F-Ilg7ieC4"
      }
    },
    {
      "cell_type": "code",
      "source": [
        "# define Himmelblau's function\n",
        "def Himmelblau(x1, x2):\n",
        "  return (x1 ** 2 + x2 - 11) ** 2 + (x1 + x2 ** 2 - 7) ** 2\n",
        "\n",
        "# return Himmelblau's value given single direction and length\n",
        "def direction_Hvalue(a, b, d, x):\n",
        "  return Himmelblau(a + d[0] * x, b + d[1] * x)\n",
        "\n",
        "# use golden section method to find the minimum value of Himmelblau's given single direction\n",
        "def Hgolden_section(a, b, initx, inity, ep, d):\n",
        "  alpha = (5 ** (1/2) - 1) / 2\n",
        "  x1 = a\n",
        "  x2 = b\n",
        "  x_sol = x1\n",
        "  count = 1\n",
        "\n",
        "  while True:\n",
        "    # set variable\n",
        "    new_sol = 0\n",
        "    u1 = x1 + (x2 - x1) * (1 - alpha)\n",
        "    u2 = x1 + (x2 - x1) * alpha\n",
        "\n",
        "    # update\n",
        "    if direction_Hvalue(initx, inity, d, u1) > direction_Hvalue(initx, inity, d, u2):\n",
        "      x1 = u1\n",
        "      new_sol = x1\n",
        "    else:\n",
        "      x2 = u2\n",
        "      new_sol = x2\n",
        "\n",
        "    # terminal condition\n",
        "    if abs(direction_Hvalue(initx, inity, d, new_sol) - direction_Hvalue(initx, inity, d, x_sol)) / abs(direction_Hvalue(initx, inity, d, new_sol)) < ep:\n",
        "      history.append(direction_Hvalue(initx, inity, d, new_sol))\n",
        "      return new_sol\n",
        "    else:\n",
        "      # print(x_sol)\n",
        "      count += 1\n",
        "      x_sol = new_sol\n",
        "\n",
        "# calculate Euclidean distance\n",
        "def distance(x1, y1, x2, y2):\n",
        "  return ((x1 - x2) ** 2 + (y1 - y2) ** 2) ** (1 / 2)\n",
        "\n",
        "# plot\n",
        "def Himmelblau_plot(history, title):\n",
        "  x1_min = -5.0\n",
        "  x1_max = 5.0\n",
        "  x2_min = -5.0\n",
        "  x2_max = 5.0\n",
        "  codes = [Path.MOVETO]\n",
        "\n",
        "  for i in range(1, len(history)):\n",
        "    codes.append(Path.LINETO)\n",
        "  path = Path(history, codes)\n",
        "  fig, ax = plt.subplots()\n",
        "  patch = patches.PathPatch(path, facecolor='none', edgecolor='red', lw=2)\n",
        "  ax.add_patch(patch)\n",
        "  ax.set_xlim(-5, 5)\n",
        "  ax.set_ylim(-5, 5)\n",
        "\n",
        "  x1, x2 = np.meshgrid(np.arange(x1_min, x1_max, 0.1), np.arange(x2_min, x2_max, 0.1))\n",
        "  y = Himmelblau(x1, x2)\n",
        "  plt.imshow(y,extent=[x1_min,x1_max,x2_min,x2_max], cmap=cm.jet, origin='lower')\n",
        "  plt.colorbar()\n",
        "  plt.title(title, fontsize=8)\n",
        "  plt.show()\n",
        "\n",
        "# define interval\n",
        "interval = [-5, 5]"
      ],
      "metadata": {
        "id": "SLPqneqlif1x"
      },
      "execution_count": 64,
      "outputs": []
    },
    {
      "cell_type": "markdown",
      "source": [
        "## cyclic coordinate method"
      ],
      "metadata": {
        "id": "jiIW_K1_EHbe"
      }
    },
    {
      "cell_type": "code",
      "source": [
        "def cyclic_coordinate(x, y, ep1, ep2):\n",
        "  direction = [[1, 0], [0, 1]]\n",
        "  initx = x\n",
        "  inity = y\n",
        "  pre_initx = initx\n",
        "  pre_inity = inity\n",
        "  verts = [(initx, inity)]\n",
        "\n",
        "  while True:\n",
        "    # update each direction\n",
        "    x = Hgolden_section(-5 - initx, 5 - initx, initx, inity, ep1, direction[0])\n",
        "    initx = initx + x\n",
        "    verts.append((initx, inity))\n",
        "    x = Hgolden_section(-5 - inity, 5 - inity, initx, inity, ep1, direction[1])\n",
        "    inity = inity + x\n",
        "    verts.append((initx, inity))\n",
        "\n",
        "    # terminal condition\n",
        "    if distance(pre_initx, pre_inity, initx, inity) < ep2:\n",
        "      return verts\n",
        "    else:\n",
        "      pre_initx = initx\n",
        "      pre_inity = inity"
      ],
      "metadata": {
        "id": "i4a6wOgVFHdW"
      },
      "execution_count": 65,
      "outputs": []
    },
    {
      "cell_type": "code",
      "source": [
        "# initial points: (0, -5), (-5, 5), (5, 2), (2, -2) can reach 4 local minimum, respectively\n",
        "history = cyclic_coordinate(2, -2, 10 ** (-5), 10 ** (-7))"
      ],
      "metadata": {
        "id": "GQzyBBOwVn3x"
      },
      "execution_count": 66,
      "outputs": []
    },
    {
      "cell_type": "code",
      "source": [
        "Himmelblau_plot(history, \"cyclic coordinate method\")"
      ],
      "metadata": {
        "colab": {
          "base_uri": "https://localhost:8080/",
          "height": 278
        },
        "id": "hK1sYAajZ81t",
        "outputId": "d3bb1dba-6a2a-42a1-f0cb-80a322514806"
      },
      "execution_count": 67,
      "outputs": [
        {
          "output_type": "display_data",
          "data": {
            "text/plain": [
              "<Figure size 432x288 with 2 Axes>"
            ],
            "image/png": "[encoded data removed]"
          },
          "metadata": {
            "needs_background": "light"
          }
        }
      ]
    },
    {
      "cell_type": "markdown",
      "source": [
        "# 3"
      ],
      "metadata": {
        "id": "PUV0ggtlig0y"
      }
    },
    {
      "cell_type": "markdown",
      "source": [
        "## Nelder-Mead downhill simplex method"
      ],
      "metadata": {
        "id": "fPuEGLcaEhGg"
      }
    },
    {
      "cell_type": "code",
      "source": [
        "def Nelder_Mead(p1, p2, p3, ep):\n",
        "  alpha = 1\n",
        "  beta = 0.5\n",
        "  gamma = 2\n",
        "  min = p1\n",
        "  mid = p1\n",
        "  max = p1\n",
        "  simplex = []\n",
        "\n",
        "  # set min, mid, max\n",
        "  if Hcompare(p1, p2):\n",
        "    max = p1\n",
        "    min = p2\n",
        "  else:\n",
        "    max = p2\n",
        "\n",
        "  if Hcompare(min, p3):\n",
        "    mid = min\n",
        "    min = p3\n",
        "  elif Hcompare(max, p3):\n",
        "    mid = p3\n",
        "  else:\n",
        "    mid = max\n",
        "    max = p3\n",
        "\n",
        "  simplex.append(((min[0] + mid[0] + max[0]) / 3, (min[1] + mid[1] + max[1]) / 3))\n",
        "\n",
        "  while True:\n",
        "    # set averaged position\n",
        "    pa = [(min[0] + mid[0]) / 2, (min[1] + mid[1]) / 2]\n",
        "    # set reflection point\n",
        "    pr = [pa[0] + alpha * (pa[0] - max[0]), pa[1] + alpha * (pa[1] - max[1])]\n",
        "\n",
        "    # f(xmin) > f(xr)\n",
        "    if Hcompare(min, pr):\n",
        "      # set expansion point\n",
        "      pe = [pa[0] + gamma * (pr[0] - pa[0]), pa[1] + gamma * (pr[1] - pa[1])]\n",
        "      max = mid\n",
        "      mid = min\n",
        "\n",
        "      # If f(xr) > f(xe)\n",
        "      if Hcompare(pr, pe):\n",
        "        min = pe\n",
        "      else:\n",
        "        min = pr\n",
        "    # If the second largest f(xi) ≥ f(xr)\n",
        "    elif Hcompare(mid, pr):\n",
        "      max = mid\n",
        "      mid = pr\n",
        "    else:\n",
        "      # f(xp) = min{f(xr), f(xmax)}\n",
        "      pp = pr\n",
        "      if Hcompare(pr, max):\n",
        "        pp = max\n",
        "\n",
        "      # set contraction point\n",
        "      pc = [pa[0] + beta * (pp[0] - pa[0]), pa[1] + beta * (pp[1] - pa[1])]\n",
        "\n",
        "      # If f(xc) > f(xp)\n",
        "      if Hcompare(pc, pp):\n",
        "        # replace xj by xj + (xmin–xj)/2\n",
        "        tmp1 = [pc[0] + (min[0] - pc[0]) / 2, pc[1] + (min[1] - pc[1]) / 2]\n",
        "        tmp2 = [mid[0] + (min[0] - mid[0]) / 2, mid[1] + (min[1] - mid[1]) / 2]\n",
        "\n",
        "        if Hcompare(tmp1, min):\n",
        "          tmp1 = max\n",
        "        else:\n",
        "          max = min\n",
        "          min = tmp1\n",
        "\n",
        "        if Hcompare(min, tmp2):\n",
        "          mid = min\n",
        "          min = tmp2\n",
        "        elif Hcompare(max, tmp2):\n",
        "          mid = tmp2\n",
        "        else:\n",
        "          mid = max\n",
        "          max = tmp2\n",
        "      # xc replaces xmax\n",
        "      else:\n",
        "        if Hcompare(min, pc):\n",
        "          max = mid\n",
        "          mid = min\n",
        "          min = pc\n",
        "        elif Hcompare(mid, pc):\n",
        "          max = mid\n",
        "          mid = pc\n",
        "        else:\n",
        "          max = pc\n",
        "\n",
        "    simplex.append(((min[0] + mid[0] + max[0]) / 3, (min[1] + mid[1] + max[1]) / 3))\n",
        "\n",
        "    # terminal condition\n",
        "    if distance(min[0], min[1], max[0], max[1]) < ep:\n",
        "      return simplex\n",
        "\n",
        "\n",
        "def Hcompare(a, b):\n",
        "  if Himmelblau(a[0], a[1]) > Himmelblau(b[0], b[1]):\n",
        "    return True\n",
        "  else:\n",
        "    return False"
      ],
      "metadata": {
        "id": "pl9OkPDQFKKv"
      },
      "execution_count": 68,
      "outputs": []
    },
    {
      "cell_type": "code",
      "source": [
        "p1 = [0, -5]\n",
        "p2 = [-5, 0]\n",
        "p3 = [5, 5]\n",
        "\n",
        "history = Nelder_Mead(p1, p2, p3, 10 ** (-3))"
      ],
      "metadata": {
        "id": "mI2oADfOkX1d"
      },
      "execution_count": 69,
      "outputs": []
    },
    {
      "cell_type": "code",
      "source": [
        "Himmelblau_plot(history, \"Nelder-Mead downhill simplex method\")"
      ],
      "metadata": {
        "colab": {
          "base_uri": "https://localhost:8080/",
          "height": 278
        },
        "id": "zRPh9AqTkV0j",
        "outputId": "f88870ee-6fde-4959-8972-1e2c59d81253"
      },
      "execution_count": 70,
      "outputs": [
        {
          "output_type": "display_data",
          "data": {
            "text/plain": [
              "<Figure size 432x288 with 2 Axes>"
            ],
            "image/png": "[encoded data removed]"
          },
          "metadata": {
            "needs_background": "light"
          }
        }
      ]
    }
  ]
}