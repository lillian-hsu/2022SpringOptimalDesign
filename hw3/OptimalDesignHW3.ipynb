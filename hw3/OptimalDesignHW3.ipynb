{
  "nbformat": 4,
  "nbformat_minor": 0,
  "metadata": {
    "colab": {
      "name": "OptimalDesignHW3.ipynb",
      "provenance": []
    },
    "kernelspec": {
      "name": "python3",
      "display_name": "Python 3"
    },
    "language_info": {
      "name": "python"
    }
  },
  "cells": [
    {
      "cell_type": "markdown",
      "source": [
        "# Import library"
      ],
      "metadata": {
        "id": "e1rhjA7lYfsO"
      }
    },
    {
      "cell_type": "code",
      "execution_count": 98,
      "metadata": {
        "id": "vcqE07uhYXk3"
      },
      "outputs": [],
      "source": [
        "# numerical\n",
        "import numpy as np\n",
        "from numpy.linalg import inv\n",
        "from math import exp, sin\n",
        "\n",
        "# plot\n",
        "import matplotlib.pyplot as plt"
      ]
    },
    {
      "cell_type": "markdown",
      "source": [
        "# initialization"
      ],
      "metadata": {
        "id": "bpWqvQJLZOHf"
      }
    },
    {
      "cell_type": "code",
      "source": [
        "x = [0.1, 0.9, 1.9, 2.3, 3, 4.1, 5.2, 5.9, 6.8, 8.1, 8.7, 9.2, 10.1, 12]\n",
        "y = [20, 24, 27, 29, 32, 37.3, 36.4, 32.4, 28.5, 30, 38, 43, 40, 32]"
      ],
      "metadata": {
        "id": "HtD2Wp_8ZNXN"
      },
      "execution_count": 99,
      "outputs": []
    },
    {
      "cell_type": "markdown",
      "source": [
        "# 1. analytic method"
      ],
      "metadata": {
        "id": "BAA9ICenYl_z"
      }
    },
    {
      "cell_type": "markdown",
      "source": [
        "## linear regression"
      ],
      "metadata": {
        "id": "9v_zshCcY_zp"
      }
    },
    {
      "cell_type": "code",
      "source": [
        "# find coefficient a, b in y = ax + b\n",
        "def linear_reg_analytic(x, y):\n",
        "  dim = len(x)\n",
        "  bias = np.ones(dim)\n",
        "  b = [[k] for k in y]\n",
        "  A = np.transpose(np.matrix([x, bias]))\n",
        "  # AT * b\n",
        "  tmp_m1 = np.matmul(np.transpose(A), b)\n",
        "  # AT * A inverse\n",
        "  tmp_m2 = inv(np.matmul(np.transpose(A), A))\n",
        "  \n",
        "  return np.matmul(tmp_m2, tmp_m1)"
      ],
      "metadata": {
        "id": "oP0Wcq7bY45B"
      },
      "execution_count": 100,
      "outputs": []
    },
    {
      "cell_type": "code",
      "source": [
        "coef = linear_reg_analytic(x, y)\n",
        "print(\"coefficient: \", coef)"
      ],
      "metadata": {
        "colab": {
          "base_uri": "https://localhost:8080/"
        },
        "id": "rl-HAPTDnAJt",
        "outputId": "170cc931-3b24-40a9-bbc2-0478e9c290c7"
      },
      "execution_count": 101,
      "outputs": [
        {
          "output_type": "stream",
          "name": "stdout",
          "text": [
            "coefficient:  [[ 1.16758943]\n",
            " [25.58412482]]\n"
          ]
        }
      ]
    },
    {
      "cell_type": "code",
      "source": [
        "# plot\n",
        "def plot_scatter_linear_reg(x, y, c):\n",
        "  lin_x = np.linspace(0, 15, 1000)\n",
        "  lin_y = np.transpose(c[0][0] * lin_x + c[1][0])\n",
        "  plt.plot(lin_x, lin_y, linestyle='solid')\n",
        "  plt.scatter(x, y, s = 5, c = \"red\")\n",
        "  plt.title('analytic linear regression')\n",
        "  plt.xlabel('x')\n",
        "  plt.ylabel('y')\n",
        "  plt.show()"
      ],
      "metadata": {
        "id": "yKjUtBWYpJcn"
      },
      "execution_count": 102,
      "outputs": []
    },
    {
      "cell_type": "code",
      "source": [
        "plot_scatter_linear_reg(x, y, coef)"
      ],
      "metadata": {
        "colab": {
          "base_uri": "https://localhost:8080/",
          "height": 294
        },
        "id": "TnZIIBMQs_eD",
        "outputId": "24884b0c-c787-4410-8839-9579f887c920"
      },
      "execution_count": 103,
      "outputs": [
        {
          "output_type": "display_data",
          "data": {
            "text/plain": [
              "<Figure size 432x288 with 1 Axes>"
            ],
            "image/png": "[encoded data removed]"
          },
          "metadata": {
            "needs_background": "light"
          }
        }
      ]
    },
    {
      "cell_type": "markdown",
      "source": [
        "## quadratic regression"
      ],
      "metadata": {
        "id": "KmyVvdXSZDwX"
      }
    },
    {
      "cell_type": "code",
      "source": [
        "# find coefficient a, b, c in y = ax^2 + bx + c\n",
        "def quadratic_reg_analytic(x, y):\n",
        "  dim = len(x)\n",
        "  q = [k ** 2 for k in x]\n",
        "  bias = np.ones(dim)\n",
        "  b = [[k] for k in y]\n",
        "  A = np.transpose(np.matrix([q, x, bias]))\n",
        "  # AT * b\n",
        "  tmp_m1 = np.matmul(np.transpose(A), b)\n",
        "  # AT * A inverse\n",
        "  tmp_m2 = inv(np.matmul(np.transpose(A), A))\n",
        "  \n",
        "  return np.matmul(tmp_m2, tmp_m1)"
      ],
      "metadata": {
        "id": "yzbsvwpbYzpQ"
      },
      "execution_count": 104,
      "outputs": []
    },
    {
      "cell_type": "code",
      "source": [
        "coef = quadratic_reg_analytic(x, y)\n",
        "print(\"coefficient: \", coef)"
      ],
      "metadata": {
        "colab": {
          "base_uri": "https://localhost:8080/"
        },
        "id": "NKanhyjzIcf0",
        "outputId": "576d8006-85ea-4612-d4c3-a5803c236495"
      },
      "execution_count": 105,
      "outputs": [
        {
          "output_type": "stream",
          "name": "stdout",
          "text": [
            "coefficient:  [[-0.20687151]\n",
            " [ 3.56671928]\n",
            " [21.26212685]]\n"
          ]
        }
      ]
    },
    {
      "cell_type": "code",
      "source": [
        "# plot\n",
        "def plot_scatter_quadratic_reg(x, y, c):\n",
        "  lin_x = np.linspace(0, 15, 1000)\n",
        "  lin_y = np.transpose(c[0][0] * (lin_x ** 2) + c[1][0] * lin_x + c[2][0])\n",
        "  plt.plot(lin_x, lin_y, linestyle='solid')\n",
        "  plt.scatter(x, y, s = 5, c = \"red\")\n",
        "  plt.title('analytic quadratic regression')\n",
        "  plt.xlabel('x')\n",
        "  plt.ylabel('y')\n",
        "  plt.show()"
      ],
      "metadata": {
        "id": "vxGuiTR_IoBh"
      },
      "execution_count": 106,
      "outputs": []
    },
    {
      "cell_type": "code",
      "source": [
        "plot_scatter_quadratic_reg(x, y, coef)"
      ],
      "metadata": {
        "colab": {
          "base_uri": "https://localhost:8080/",
          "height": 294
        },
        "id": "tZxIMk8_JNyV",
        "outputId": "23bf59f1-fa08-435e-a4e3-805d9decacbf"
      },
      "execution_count": 107,
      "outputs": [
        {
          "output_type": "display_data",
          "data": {
            "text/plain": [
              "<Figure size 432x288 with 1 Axes>"
            ],
            "image/png": "[encoded data removed]"
          },
          "metadata": {
            "needs_background": "light"
          }
        }
      ]
    },
    {
      "cell_type": "markdown",
      "source": [
        "# 2"
      ],
      "metadata": {
        "id": "_w4OGJp8YpWB"
      }
    },
    {
      "cell_type": "markdown",
      "source": [
        "## Fletcher-Reeves conjugate gradient method"
      ],
      "metadata": {
        "id": "3kgMFXTrUBvR"
      }
    },
    {
      "cell_type": "code",
      "source": [
        "# Fletcher-Reeves conjugate gradient method\n",
        "def fletcher_reeves(x, y, c, gradient_func, find_min_func):\n",
        "  n = 2\n",
        "  ep = 0.1 ** 5\n",
        "  history = [tuple(c)]\n",
        "  p = c\n",
        "  \n",
        "  while True:\n",
        "    s = -gradient_func(x, y, p)\n",
        "    # find point minimize loss\n",
        "    for i in range(0, n):\n",
        "      # terminal condition\n",
        "      if norm(s) < ep:\n",
        "        history.append(tuple(p))\n",
        "        return history\n",
        "      # update s and p\n",
        "      else:\n",
        "        new_p = find_min_func(x, y, p, s)\n",
        "        g = gradient_func(x, y, p)\n",
        "        new_g = gradient_func(x, y, new_p)\n",
        "        beta = np.inner(new_g, new_g) / np.inner(g, g)\n",
        "        s = -gradient_func(x, y, new_p) + beta * s\n",
        "        p = new_p\n",
        "    # append updated point to history\n",
        "    history.append(tuple(p))\n",
        "\n",
        "# calculate norm\n",
        "def norm(s):\n",
        "  return sum(k ** 2 for k in s) ** 0.5"
      ],
      "metadata": {
        "id": "05aZvSb9QcIZ"
      },
      "execution_count": 108,
      "outputs": []
    },
    {
      "cell_type": "markdown",
      "source": [
        "### linear regression"
      ],
      "metadata": {
        "id": "avNtq5ZvV63q"
      }
    },
    {
      "cell_type": "code",
      "source": [
        "# test function\n",
        "# plot loss function\n",
        "def plot_loss(x, y, a, b, g, t):\n",
        "  lin_x = np.linspace(-50, 50, 1000)\n",
        "  lin_y = sum((j - ((a + g[0] * lin_x) * i + (b + g[1] * lin_x))) ** 2 for i, j in zip(x, y))\n",
        "  plt.plot(lin_x, lin_y, linestyle='solid')\n",
        "  plt.scatter([t], [0], s = 5, c = \"red\")\n",
        "  plt.title('loss')\n",
        "  plt.xlabel('x')\n",
        "  plt.ylabel('y')\n",
        "  plt.show()"
      ],
      "metadata": {
        "id": "-yPNfw6V469Q"
      },
      "execution_count": 109,
      "outputs": []
    },
    {
      "cell_type": "code",
      "source": [
        "# test function\n",
        "# example function\n",
        "def gradient(p):\n",
        "  return np.array([4 * p[0] + 2 * p[1] + 1, 2 * p[0] + 2 * p[1] - 1])\n",
        "\n",
        "def find_min(p, g):\n",
        "  t1 = 4 * p[0] * g[0] + 2 * p[0] * g[1] + 2 * p[1] * g[0] + 2 * p[1] * g[1] + g[0] - g[1]\n",
        "  t2 = 4 * g[0] ** 2 + 4 * g[0] * g[1] + 2 * g[1] ** 2\n",
        "  t = -t1 / t2\n",
        "  return np.array([p[0] + t * g[0], p[1] + t * g[1]])"
      ],
      "metadata": {
        "id": "XAkCWWMHRqEP"
      },
      "execution_count": 110,
      "outputs": []
    },
    {
      "cell_type": "code",
      "source": [
        "# find min step size\n",
        "step_size = 0\n",
        "\n",
        "# loss function\n",
        "def linear_loss(x, y, a, b):\n",
        "  return sum((j - (a * i + b)) ** 2 for i, j in zip(x, y))\n",
        "\n",
        "# calculate gradient at p\n",
        "def linear_gradient(x, y, p):\n",
        "  g = [sum(((p[0] * i + p[1]) - j) * 2 * i for i, j in zip(x, y)), sum(((p[0] * i + p[1]) - j) * 2 for i, j in zip(x, y))]\n",
        "  return np.array(g)\n",
        "\n",
        "# find point which gradient is zero\n",
        "def find_min_linear(x, y, p, g):\n",
        "  global step_size\n",
        "  x = np.array(x)\n",
        "  y = np.array(y)\n",
        "  v1 = g[0] * x + g[1]\n",
        "  v2 = y - (p[0] * x + p[1])\n",
        "  t = np.inner(v1, v2) / np.inner(v1, v1)\n",
        "  step_size = t\n",
        "  return [p[0] + t * g[0], p[1] + t * g[1]]"
      ],
      "metadata": {
        "id": "82P624ueUFsN"
      },
      "execution_count": 111,
      "outputs": []
    },
    {
      "cell_type": "code",
      "source": [
        "coef = [0, 0]\n",
        "history = fletcher_reeves(x, y, coef, linear_gradient, find_min_linear)\n",
        "print(\"coefficient: \", history[-1])"
      ],
      "metadata": {
        "colab": {
          "base_uri": "https://localhost:8080/"
        },
        "id": "iqdQzaa0AZsN",
        "outputId": "63b8510c-3496-4997-b2a7-e10332350d6a"
      },
      "execution_count": 112,
      "outputs": [
        {
          "output_type": "stream",
          "name": "stdout",
          "text": [
            "coefficient:  (1.1675894318259736, 25.584124820573443)\n"
          ]
        }
      ]
    },
    {
      "cell_type": "markdown",
      "source": [
        "### quadratic regression"
      ],
      "metadata": {
        "id": "XSyUfGGFV_c_"
      }
    },
    {
      "cell_type": "code",
      "source": [
        "# calculate gradient at p\n",
        "def quadratic_gradient(x, y, p):\n",
        "  x = np.array(x)\n",
        "  y = np.array(y)\n",
        "  x_2 = x ** 2\n",
        "  g1 = sum((y - (p[0] * x_2 + p[1] * x + p[2])) * (-x_2))\n",
        "  g2 = sum((y - (p[0] * x_2 + p[1] * x + p[2])) * (-x))\n",
        "  g3 = sum((y - (p[0] * x_2 + p[1] * x + p[2])) * (-1))\n",
        "  g = [g1, g2, g3]\n",
        "  return np.array(g)\n",
        "\n",
        "# find point which gradient is zero\n",
        "def find_min_quadratic(x, y, p, g):\n",
        "  global step_size\n",
        "  x = np.array(x)\n",
        "  y = np.array(y)\n",
        "  x_2 = x ** 2\n",
        "  v1 = g[0] * x_2 + g[1] * x + g[2]\n",
        "  v2 = y - (p[0] * x_2 + p[1] * x + p[2])\n",
        "  t = np.inner(v1, v2) / np.inner(v1, v1)\n",
        "  step_size = t\n",
        "  return [p[0] + t * g[0], p[1] + t * g[1], p[2] + t * g[2]]"
      ],
      "metadata": {
        "id": "dYsvTBFqWDQI"
      },
      "execution_count": 113,
      "outputs": []
    },
    {
      "cell_type": "code",
      "source": [
        "coef = [0, 0, 0]\n",
        "history = fletcher_reeves(x, y, coef, quadratic_gradient, find_min_quadratic)\n",
        "print(\"coefficient: \", history[-1])"
      ],
      "metadata": {
        "colab": {
          "base_uri": "https://localhost:8080/"
        },
        "id": "kyqcntHxORRE",
        "outputId": "99b736a9-57df-42ef-b5fe-a55f3e9ae7a9"
      },
      "execution_count": 114,
      "outputs": [
        {
          "output_type": "stream",
          "name": "stdout",
          "text": [
            "coefficient:  (-0.2068715270591417, 3.566719519205277, 21.26212616576684)\n"
          ]
        }
      ]
    },
    {
      "cell_type": "markdown",
      "source": [
        "## Davidon-Fletcher-Powell (DFP) method"
      ],
      "metadata": {
        "id": "L7YDZVGr5xWc"
      }
    },
    {
      "cell_type": "code",
      "source": [
        "# gradient function and find minimum point function are the same as fletcher-reeves method\n",
        "def DFP(x, y, p, gradient_func, find_min_func):\n",
        "  cur = p\n",
        "  history = [tuple(p)]\n",
        "  ep = 0.1 ** 5\n",
        "  B = np.matrix([[1, 0], [0, 1]])\n",
        "  if len(p) == 3:\n",
        "    B = np.matrix([[1, 0, 0], [0, 1, 0], [0, 0, 1]])\n",
        "\n",
        "  while True:\n",
        "    df = gradient_func(x, y, cur)\n",
        "    # terminate condition\n",
        "    if norm(df) < ep:\n",
        "      return history\n",
        "    s = -np.matmul(df, B)\n",
        "    # find the new step point\n",
        "    new_cur = find_min_func(x, y, cur, s.tolist()[0])\n",
        "    new_df = gradient_func(x, y, new_cur)\n",
        "    history.append(tuple(new_cur))\n",
        "    # terminate condition\n",
        "    if norm(new_df) < ep:\n",
        "      return history\n",
        "    # update B\n",
        "    global step_size\n",
        "    g = new_df - df\n",
        "    M = step_size * np.matmul(np.transpose(s), s) / np.inner(s.tolist()[0], g)\n",
        "    Bg = np.matmul(g, B)\n",
        "    N = -np.matmul(np.transpose(Bg), Bg) / np.inner(g, Bg.tolist()[0])\n",
        "    B = B + M + N\n",
        "    # update cur\n",
        "    cur = new_cur"
      ],
      "metadata": {
        "id": "AemUlkiJ57le"
      },
      "execution_count": 115,
      "outputs": []
    },
    {
      "cell_type": "markdown",
      "source": [
        "### linear regression"
      ],
      "metadata": {
        "id": "f5qdlWUU6cUB"
      }
    },
    {
      "cell_type": "code",
      "source": [
        "coef = [0, 0]\n",
        "history = DFP(x, y, coef, linear_gradient, find_min_linear)\n",
        "print(\"coefficient: \", history[-1])"
      ],
      "metadata": {
        "colab": {
          "base_uri": "https://localhost:8080/"
        },
        "id": "rwTY7SIkQnGe",
        "outputId": "638bdfe0-5b0a-499b-c317-9cc690dffa78"
      },
      "execution_count": 116,
      "outputs": [
        {
          "output_type": "stream",
          "name": "stdout",
          "text": [
            "coefficient:  (1.1675894318259492, 25.58412482057344)\n"
          ]
        }
      ]
    },
    {
      "cell_type": "markdown",
      "source": [
        "### quadratic regression"
      ],
      "metadata": {
        "id": "Ui-c56yh6gqt"
      }
    },
    {
      "cell_type": "code",
      "source": [
        "coef = [0, 0, 0]\n",
        "history = DFP(x, y, coef, quadratic_gradient, find_min_quadratic)\n",
        "print(\"coefficient: \", history[-1])"
      ],
      "metadata": {
        "colab": {
          "base_uri": "https://localhost:8080/"
        },
        "id": "1OmfuWMX6lwt",
        "outputId": "60438725-fe09-42e3-d4c1-95d66b1489ac"
      },
      "execution_count": 117,
      "outputs": [
        {
          "output_type": "stream",
          "name": "stdout",
          "text": [
            "coefficient:  (-0.20687150986009017, 3.5667192777743413, 21.26212684820319)\n"
          ]
        }
      ]
    },
    {
      "cell_type": "markdown",
      "source": [
        "# 3"
      ],
      "metadata": {
        "id": "k2IDj16nYrS_"
      }
    },
    {
      "cell_type": "code",
      "source": [
        "# calculate loss\n",
        "def poly_loss(x, y, c, dim):\n",
        "  loss = 0\n",
        "  for i, j in zip(x, y):\n",
        "    v = sum(c[k][0] * i ** (dim - k) for k in range(0, dim + 1))\n",
        "    loss += (j - v) ** 2\n",
        "  return loss\n",
        "\n",
        "# determine the best dimension to minimize loss\n",
        "def polynomial_reg_analytic(x, y, dim):\n",
        "  x = np.array(x)\n",
        "  y = np.array(y)\n",
        "  poly_list = []\n",
        "  for d in range(0, dim + 1):\n",
        "    poly_list.append(x ** (dim - d))\n",
        "  b = [[k] for k in y]\n",
        "  A = np.transpose(np.matrix(poly_list))\n",
        "  # AT * b\n",
        "  tmp_m1 = np.matmul(np.transpose(A), b)\n",
        "  # AT * A inverse\n",
        "  tmp_m2 = inv(np.matmul(np.transpose(A), A))\n",
        "  \n",
        "  return np.matmul(tmp_m2, tmp_m1).tolist()"
      ],
      "metadata": {
        "id": "gldlwKZmgVWn"
      },
      "execution_count": 118,
      "outputs": []
    },
    {
      "cell_type": "code",
      "source": [
        "dim = 5\n",
        "coef = polynomial_reg_analytic(x, y, dim)\n",
        "print(\"coefficient: \", coef)"
      ],
      "metadata": {
        "colab": {
          "base_uri": "https://localhost:8080/"
        },
        "id": "IFQCsTFtjeYa",
        "outputId": "9b289c5b-a054-4809-eff0-08ae7657cf80"
      },
      "execution_count": 119,
      "outputs": [
        {
          "output_type": "stream",
          "name": "stdout",
          "text": [
            "coefficient:  [[-0.007958267625928883], [0.22041661785195288], [-2.0577810650886477], [7.1128752246258955], [-4.0047551502739225], [21.078842604156307]]\n"
          ]
        }
      ]
    },
    {
      "cell_type": "code",
      "source": [
        "# plot regression\n",
        "def plot_scatter_poly_reg(x, y, c, dim):\n",
        "  lin_x = np.linspace(0, 13, 1000)\n",
        "  lin_y = np.transpose(sum(c[i][0] * lin_x ** (dim - i) for i in range(0, dim + 1)))\n",
        "  plt.plot(lin_x, lin_y, linestyle='solid')\n",
        "  plt.scatter(x, y, s = 5, c = \"red\")\n",
        "  plt.title('analytic polynomial regression')\n",
        "  plt.xlabel('x')\n",
        "  plt.ylabel('y')\n",
        "  plt.show()\n",
        "\n",
        "# plot loss versus dimension\n",
        "def loss_plot(title, history):\n",
        "    plt.figure(figsize=(10,5))\n",
        "    plt.plot(history, label = \"1\")\n",
        "    plt.title(title)\n",
        "    plt.xlabel(\"dimension\")\n",
        "    plt.ylabel(\"loss value\")\n",
        "    plt.show()"
      ],
      "metadata": {
        "id": "y_5tScZ0iGT_"
      },
      "execution_count": 120,
      "outputs": []
    },
    {
      "cell_type": "code",
      "source": [
        "plot_scatter_poly_reg(x, y, coef, dim)"
      ],
      "metadata": {
        "colab": {
          "base_uri": "https://localhost:8080/",
          "height": 294
        },
        "id": "ALJac76sjs3y",
        "outputId": "a77b1262-5f94-4b42-a645-9b36e7193863"
      },
      "execution_count": 121,
      "outputs": [
        {
          "output_type": "display_data",
          "data": {
            "text/plain": [
              "<Figure size 432x288 with 1 Axes>"
            ],
            "image/png": "[encoded data removed]"
          },
          "metadata": {
            "needs_background": "light"
          }
        }
      ]
    },
    {
      "cell_type": "code",
      "source": [
        "# measure loss in each dimension\n",
        "history = []\n",
        "max_dim = 11\n",
        "for i in range(0, max_dim):\n",
        "  coef = polynomial_reg_analytic(x, y, i)\n",
        "  loss = poly_loss(x, y, coef, i)\n",
        "  history.append(loss)\n",
        "  print(\"max dimension is %d, loss: %f\" % (i, loss))\n",
        "\n",
        "# plot loss\n",
        "loss_plot(\"loss\", history)"
      ],
      "metadata": {
        "colab": {
          "base_uri": "https://localhost:8080/",
          "height": 540
        },
        "id": "OzQ82QtFl4z3",
        "outputId": "2762ceda-1dc1-4bd2-e48a-b4f16d5f33b0"
      },
      "execution_count": 122,
      "outputs": [
        {
          "output_type": "stream",
          "name": "stdout",
          "text": [
            "max dimension is 0, loss: 526.677143\n",
            "max dimension is 1, loss: 284.494075\n",
            "max dimension is 2, loss: 204.603356\n",
            "max dimension is 3, loss: 202.440606\n",
            "max dimension is 4, loss: 151.452310\n",
            "max dimension is 5, loss: 71.945625\n",
            "max dimension is 6, loss: 71.691420\n",
            "max dimension is 7, loss: 17.856406\n",
            "max dimension is 8, loss: 3.120671\n",
            "max dimension is 9, loss: 1.781801\n",
            "max dimension is 10, loss: 3.353092\n"
          ]
        },
        {
          "output_type": "display_data",
          "data": {
            "text/plain": [
              "<Figure size 720x360 with 1 Axes>"
            ],
            "image/png": "[encoded data removed]"
          },
          "metadata": {
            "needs_background": "light"
          }
        }
      ]
    },
    {
      "cell_type": "markdown",
      "source": [
        "## conclusion\n",
        "\n",
        "the best dimension seems to be 9  \n",
        "(to my best knowledge, the polynomial in dimension 13 should perfectly fit the data point, but uh oh, it fails.)"
      ],
      "metadata": {
        "id": "D9IzePqfo8bi"
      }
    },
    {
      "cell_type": "markdown",
      "source": [
        "# 4"
      ],
      "metadata": {
        "id": "bIq4jRaLYtWF"
      }
    },
    {
      "cell_type": "code",
      "source": [
        "# basis of function\n",
        "def my_exp(x):\n",
        "  flist = []\n",
        "  for i in x:\n",
        "    flist.append(exp(-i))\n",
        "  return np.array(flist)\n",
        "\n",
        "def my_sin(x):\n",
        "  x_scalar = 1.2\n",
        "  y_scalar = 2\n",
        "  x_move = 2.14\n",
        "  y_move = 13\n",
        "  flist = []\n",
        "  for i in x:\n",
        "    flist.append(sin((i + x_move) * x_scalar) * y_scalar + y_move)\n",
        "  return np.array(flist)\n",
        "\n",
        "flist_set = [my_exp, my_sin]\n",
        "\n",
        "# calculate linear combination of function that best fits data\n",
        "def mix_reg_analytic(x, y):\n",
        "  global flist_set\n",
        "  x = np.array(x)\n",
        "  y = np.array(y)\n",
        "  f_list = []\n",
        "  for d in range(0, len(flist_set)):\n",
        "    f_list.append(flist_set[d](x))\n",
        "  b = [[k] for k in y]\n",
        "  A = np.transpose(np.matrix(f_list))\n",
        "  # AT * b\n",
        "  tmp_m1 = np.matmul(np.transpose(A), b)\n",
        "  # AT * A inverse\n",
        "  tmp_m2 = inv(np.matmul(np.transpose(A), A))\n",
        "  \n",
        "  return np.matmul(tmp_m2, tmp_m1).tolist()\n",
        "\n",
        "# calculate loss\n",
        "def mix_loss(x, y, c):\n",
        "  y = np.array(y)\n",
        "  global flist_set\n",
        "  return sum((y - sum(c[i][0] * flist_set[i](x) for i in range(len(flist_set)))) ** 2)"
      ],
      "metadata": {
        "id": "zvqvRn44WsZx"
      },
      "execution_count": 123,
      "outputs": []
    },
    {
      "cell_type": "code",
      "source": [
        "coef = mix_reg_analytic(x, y)\n",
        "print(\"coefficient: \", coef)"
      ],
      "metadata": {
        "colab": {
          "base_uri": "https://localhost:8080/"
        },
        "id": "DNLylctfY8Az",
        "outputId": "2ba40920-e32f-49a7-997e-a5a2a777f8cb"
      },
      "execution_count": 124,
      "outputs": [
        {
          "output_type": "stream",
          "name": "stdout",
          "text": [
            "coefficient:  [[-18.850025275073897], [2.662017641390047]]\n"
          ]
        }
      ]
    },
    {
      "cell_type": "code",
      "source": [
        "# plot\n",
        "def plot_scatter_mix_reg(x, y, c):\n",
        "  global flist_set\n",
        "  lin_x = np.linspace(0, 13, 1000)\n",
        "  lin_y = np.transpose(sum(c[i][0] * flist_set[i](lin_x) for i in range(0, len(flist_set))))\n",
        "  plt.plot(lin_x, lin_y, linestyle='solid')\n",
        "  plt.scatter(x, y, s = 5, c = \"red\")\n",
        "  plt.title('analytic polynomial regression')\n",
        "  plt.xlabel('x')\n",
        "  plt.ylabel('y')\n",
        "  plt.show()"
      ],
      "metadata": {
        "id": "DRu3plucaoFW"
      },
      "execution_count": 125,
      "outputs": []
    },
    {
      "cell_type": "code",
      "source": [
        "print(\"mix loss: %f\" % (mix_loss(x, y, coef)))\n",
        "plot_scatter_mix_reg(x, y, coef)"
      ],
      "metadata": {
        "colab": {
          "base_uri": "https://localhost:8080/",
          "height": 312
        },
        "id": "tQJLAB5qb_fL",
        "outputId": "8a617fc8-c184-4e08-872c-a2b0f02d9317"
      },
      "execution_count": 126,
      "outputs": [
        {
          "output_type": "stream",
          "name": "stdout",
          "text": [
            "mix loss: 41.351048\n"
          ]
        },
        {
          "output_type": "display_data",
          "data": {
            "text/plain": [
              "<Figure size 432x288 with 1 Axes>"
            ],
            "image/png": "[encoded data removed]"
          },
          "metadata": {
            "needs_background": "light"
          }
        }
      ]
    }
  ]
}